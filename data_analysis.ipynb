{
 "cells": [
  {
   "cell_type": "markdown",
   "metadata": {
    "collapsed": true
   },
   "source": [
    "Some visual representations can be of help to better understand the quality of the data collected."
   ]
  },
  {
   "cell_type": "code",
   "execution_count": 2,
   "metadata": {},
   "outputs": [
    {
     "name": "stdout",
     "output_type": "stream",
     "text": [
      "The dataset has 11147 records\n"
     ]
    }
   ],
   "source": [
    "import json\n",
    "\n",
    "X_text = []\n",
    "y_text = []\n",
    "\n",
    "with open(\"reviews.jl\") as f:\n",
    "    lines = f.readlines()\n",
    "\n",
    "for line in lines:\n",
    "\n",
    "    parsed_json = json.loads(line)\n",
    "\n",
    "    X_text.append(parsed_json[\"text\"])\n",
    "    y_text.append(parsed_json[\"rating\"])\n",
    "\n",
    "print('The dataset has ' + str(len(X_text)) + ' records')"
   ]
  },
  {
   "cell_type": "markdown",
   "metadata": {},
   "source": [
    "Some samples of reviews"
   ]
  },
  {
   "cell_type": "code",
   "execution_count": 3,
   "metadata": {},
   "outputs": [
    {
     "name": "stdout",
     "output_type": "stream",
     "text": [
      "RATING: 5\nREVIEW: Non lo volevo acquistare all'inizio però poi avevo voglia di qualche call of duty perché ero anni senza usarne uno e devo dire che non mi ha deluso. Hanno aggiunto delle piccole missioni secondarie che non ci sono mai state prima e questo è stato molto carino. La storia è quella che è ed in poche ore lo si completa però merita più degli altri usciti negli ultimi anni. La zombie ha sempre il suo fascino ed è sempre utile per giocare con amici. Consigliato a tutti!\n\nRATING: 1\nREVIEW: E il kindle? perché niente funziona sul kindle? Impossibile aprire l'applicazione solo una gran perdita di tempo e se contatti il servizio clienti neanche rispondono.\n\nRATING: 2\nREVIEW: l'app non riscontra le mie esigenze in veste grafica .\n\nRATING: 5\nREVIEW: Scarpe Perfette sia per la misura che per le condizioni, ho preso il mio numero esatto e la calzata è giusta...la spedizione davvero rapida, arrivate prima del previsto!\n\nRATING: 4\nREVIEW: Ho acquistato il gioco, soprattutto, nella speranza di ritrovare quelle emozioni che mi avevano dato i primi Resident Evil targati Mikami. Sicuramente non ne sono rimasto deluso.\n\n"
     ]
    }
   ],
   "source": [
    "import random\n",
    "\n",
    "for _ in range(5):\n",
    "    i = random.randint(0,len(X_text))\n",
    "    print('RATING: ' + y_text[i])\n",
    "    print('REVIEW: ' + X_text[i])\n",
    "    print()"
   ]
  },
  {
   "cell_type": "markdown",
   "metadata": {},
   "source": [
    "How is distributed the dataset?"
   ]
  },
  {
   "cell_type": "code",
   "execution_count": 4,
   "metadata": {},
   "outputs": [
    {
     "name": "stdout",
     "output_type": "stream",
     "text": [
      "1-star reviews: 1615\t percentage: 14.49%\n2-star reviews: 1313\t percentage: 11.78%\n3-star reviews: 1810\t percentage: 16.24%\n4-star reviews: 2600\t percentage: 23.32%\n5-star reviews: 3809\t percentage: 34.17%\n"
     ]
    },
    {
     "data": {
      "image/png": "[encoded data removed]",
      "text/plain": [
       "<matplotlib.figure.Figure at 0x106cc41d0>"
      ]
     },
     "metadata": {},
     "output_type": "display_data"
    }
   ],
   "source": [
    "%matplotlib inline\n",
    "import matplotlib.pyplot as plt\n",
    "\n",
    "one_star = 0\n",
    "two_star = 0\n",
    "three_star = 0\n",
    "four_star = 0\n",
    "five_star = 0\n",
    "\n",
    "for rating in y_text:\n",
    "    if rating == '1':\n",
    "        one_star += 1\n",
    "    elif rating == '2':\n",
    "        two_star += 1\n",
    "    elif rating == '3':\n",
    "        three_star += 1\n",
    "    elif rating == '4':\n",
    "        four_star += 1\n",
    "    else:\n",
    "        five_star += 1\n",
    "\n",
    "print('1-star reviews: {}\\t percentage: {:.2%}'.format(one_star,one_star/len(y_text)))\n",
    "print('2-star reviews: {}\\t percentage: {:.2%}'.format(two_star,two_star/len(y_text)))\n",
    "print('3-star reviews: {}\\t percentage: {:.2%}'.format(three_star,three_star/len(y_text)))\n",
    "print('4-star reviews: {}\\t percentage: {:.2%}'.format(four_star,four_star/len(y_text)))\n",
    "print('5-star reviews: {}\\t percentage: {:.2%}'.format(five_star,five_star/len(y_text)))\n",
    "\n",
    "labels = '1-star', '2-star', '3-star', '4-star', '5-star'\n",
    "sizes = [one_star, two_star, three_star, four_star, five_star]\n",
    "\n",
    "patches, texts = plt.pie(sizes, labels=labels, startangle=90)\n",
    "plt.axis('equal')\n",
    "plt.savefig('fig_1.png')\n",
    "plt.show()"
   ]
  },
  {
   "cell_type": "code",
   "execution_count": 5,
   "metadata": {
    "collapsed": false
   },
   "outputs": [
    {
     "name": "stdout",
     "output_type": "stream",
     "text": [
      "Number of total words: 413300\nAverage number of words per review: 37.08\nNumber of unique words: 26787\nAverage repetition of words: 15.43\n"
     ]
    }
   ],
   "source": [
    "import re\n",
    "\n",
    "n_words = 0\n",
    "\n",
    "words_set = set()\n",
    "\n",
    "words_dictionary = {}\n",
    "\n",
    "for sentence in X_text:\n",
    "    words = re.sub(r'[^\\w\\s]','',sentence).lower().split(\" \")\n",
    "    n_words += len(words)\n",
    "\n",
    "    for word in words:\n",
    "        words_set.add(word)\n",
    "\n",
    "        if word in words_dictionary:\n",
    "            words_dictionary[word] += 1\n",
    "        else:\n",
    "            words_dictionary[word] = 1\n",
    "            \n",
    "print(\"Number of total words: {}\".format(n_words))\n",
    "print(\"Average number of words per review: {:.2f}\".format(n_words/len(X_text)))\n",
    "print(\"Number of unique words: {}\".format(len(words_set)))\n",
    "print(\"Average repetition of words: {:.2f}\".format(n_words/len(words_set)))"
   ]
  },
  {
   "cell_type": "code",
   "execution_count": null,
   "metadata": {},
   "outputs": [],
   "source": [
    ""
   ]
  }
 ],
 "metadata": {
  "kernelspec": {
   "display_name": "Python 2",
   "language": "python",
   "name": "python2"
  },
  "language_info": {
   "codemirror_mode": {
    "name": "ipython",
    "version": 2.0
   },
   "file_extension": ".py",
   "mimetype": "text/x-python",
   "name": "python",
   "nbconvert_exporter": "python",
   "pygments_lexer": "ipython2",
   "version": "2.7.6"
  }
 },
 "nbformat": 4,
 "nbformat_minor": 0
}