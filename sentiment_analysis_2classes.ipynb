{
 "cells": [
  {
   "cell_type": "code",
   "execution_count": 41,
   "metadata": {
    "collapsed": true
   },
   "outputs": [
    {
     "name": "stdout",
     "output_type": "stream",
     "text": [
      "Size of the dataset: 11147\n"
     ]
    }
   ],
   "source": [
    "#Load the data\n",
    "\n",
    "import json\n",
    "\n",
    "X_text = []\n",
    "y_text = []\n",
    "\n",
    "with open(\"reviews.jl\") as f:\n",
    "    lines = f.readlines()\n",
    "\n",
    "for line in lines:\n",
    "\n",
    "    parsed_json = json.loads(line)\n",
    "\n",
    "    X_text.append(parsed_json[\"text\"])\n",
    "    y_text.append(parsed_json[\"rating\"])\n",
    "\n",
    "print(\"Size of the dataset: {}\".format(len(X_text)))"
   ]
  },
  {
   "cell_type": "code",
   "execution_count": 42,
   "metadata": {},
   "outputs": [],
   "source": [
    "#Reduce the classes from 5 to 2\n",
    "\n",
    "y_text_old = y_text.copy()\n",
    "\n",
    "y_text = []\n",
    "\n",
    "for label in y_text_old:\n",
    "    \n",
    "    if (label == \"1\" or label == \"2\" or label == \"3\"):\n",
    "        y_text.append(\"1-3\")\n",
    "    else:\n",
    "        y_text.append(\"4-5\")"
   ]
  },
  {
   "cell_type": "code",
   "execution_count": 43,
   "metadata": {},
   "outputs": [
    {
     "name": "stdout",
     "output_type": "stream",
     "text": [
      "Classes: 1-3, 4-5\n"
     ]
    }
   ],
   "source": [
    "#Encode the labels\n",
    "\n",
    "from sklearn.preprocessing import LabelEncoder\n",
    "\n",
    "le = LabelEncoder()\n",
    "\n",
    "le.fit(y_text)\n",
    "    \n",
    "print(\"Classes: \" + \", \".join(le.classes_))"
   ]
  },
  {
   "cell_type": "code",
   "execution_count": 44,
   "metadata": {},
   "outputs": [
    {
     "name": "stdout",
     "output_type": "stream",
     "text": [
      "X train size: \t10032\ny train size: \t10032\nX test size: \t1115\ny test size: \t1115\n"
     ]
    }
   ],
   "source": [
    "#Create training and testing set\n",
    "\n",
    "from sklearn.model_selection import train_test_split\n",
    "\n",
    "test_size = 0.1\n",
    "\n",
    "X_train_text, X_test_text, y_train_text, y_test_text = train_test_split(X_text,\n",
    "                                                                        y_text,\n",
    "                                                                        test_size=test_size,\n",
    "                                                                        random_state=0)\n",
    "\n",
    "print(\"X train size: \\t{}\".format(len(X_train_text)))\n",
    "print(\"y train size: \\t{}\".format(len(y_train_text)))\n",
    "print(\"X test size: \\t{}\".format(len(X_test_text)))\n",
    "print(\"y test size: \\t{}\".format(len(y_test_text)))"
   ]
  },
  {
   "cell_type": "code",
   "execution_count": 45,
   "metadata": {},
   "outputs": [],
   "source": [
    "#Create the pipeline\n",
    "\n",
    "from sklearn.feature_extraction.text import CountVectorizer\n",
    "from sklearn.feature_extraction.text import TfidfTransformer\n",
    "from sklearn.linear_model import SGDClassifier\n",
    "from sklearn.pipeline import Pipeline\n",
    "\n",
    "text_clf = Pipeline([('vect', CountVectorizer()),\n",
    "                     ('tfidf', TfidfTransformer()),\n",
    "                     ('clf', SGDClassifier()),])"
   ]
  },
  {
   "cell_type": "code",
   "execution_count": 46,
   "metadata": {},
   "outputs": [],
   "source": [
    "#Fit the classifier\n",
    "\n",
    "text_clf = text_clf.fit(X_train_text, le.transform(y_train_text))"
   ]
  },
  {
   "cell_type": "code",
   "execution_count": 47,
   "metadata": {},
   "outputs": [
    {
     "name": "stdout",
     "output_type": "stream",
     "text": [
      "Prediction:\t1-3, 4-5, 4-5, 4-5, 4-5, 1-3, 1-3, 4-5, 4-5, 4-5, 4-5, 4-5, 4-5, 1-3, 1-3\nTrue values:\t1-3, 1-3, 4-5, 4-5, 4-5, 1-3, 1-3, 4-5, 4-5, 1-3, 4-5, 4-5, 4-5, 1-3, 1-3\n"
     ]
    }
   ],
   "source": [
    "#Make prediction on the test set\n",
    "y_pred = text_clf.predict(X_test_text)\n",
    "\n",
    "y_pred_text = le.inverse_transform(y_pred)\n",
    "\n",
    "#Print comparison of first 15 elements predicted and true\n",
    "print(\"Prediction:\\t\" + \", \".join(y_pred_text[0:15]))\n",
    "print(\"True values:\\t\" + \", \".join(y_test_text[0:15]))"
   ]
  },
  {
   "cell_type": "code",
   "execution_count": 48,
   "metadata": {},
   "outputs": [],
   "source": [
    "#Compute F1-score, Precision ans Recall\n",
    "\n",
    "from sklearn.metrics import f1_score\n",
    "from sklearn.metrics import precision_score, recall_score\n",
    "\n",
    "\n",
    "y_true = le.transform(y_test_text)\n",
    "\n",
    "precision = precision_score(y_true, y_pred, average=None)\n",
    "\n",
    "recall = recall_score(y_true, y_pred, average=None)\n",
    "\n",
    "f1_s = f1_score(y_true, y_pred, average=None)"
   ]
  },
  {
   "cell_type": "code",
   "execution_count": 49,
   "metadata": {},
   "outputs": [
    {
     "name": "stdout",
     "output_type": "stream",
     "text": [
      "Label\tF1-score\tPrecision\tRecall\n1-3-Star\t0.7650\t0.8342\t0.7064\n4-5-Star\t0.8502\t0.8075\t0.8977\n"
     ]
    }
   ],
   "source": [
    "#Analyze results\n",
    "\n",
    "print(\"Label\\tF1-score\\tPrecision\\tRecall\")\n",
    "for i in range(len(le.classes_)):\n",
    "    print(\"{}-Star\\t{:.4f}\\t{:.4f}\\t{:.4f}\".format(le.classes_[i],\n",
    "                                                   f1_s[i],\n",
    "                                                   precision[i,],\n",
    "                                                   recall[i]))"
   ]
  },
  {
   "cell_type": "code",
   "execution_count": 53,
   "metadata": {},
   "outputs": [
    {
     "name": "stdout",
     "output_type": "stream",
     "text": [
      "Label\tF1-score\tPrecision\tRecall\n1-3-Star\t0.7973\t0.8635\t0.7404\n4-5-Star\t0.8696\t0.8287\t0.9147\n\nBest parameters:\n{'clf__alpha': 0.0001, 'clf__loss': 'hinge', 'tfidf__norm': 'l2', 'vect__ngram_range': (1, 3), 'vect__strip_accents': None}\n"
     ]
    }
   ],
   "source": [
    "#Tune the classifier\n",
    "\n",
    "from sklearn.model_selection import GridSearchCV\n",
    "\n",
    "param = {'vect__ngram_range': [(1, 2), (1, 3), (1, 4)],\n",
    "         'vect__strip_accents': ('ascii', 'unicode', None),\n",
    "         'tfidf__norm': ('l1', 'l2', None),\n",
    "         'clf__alpha': (0.0001, 0.0003, 0.001),\n",
    "         'clf__loss': ('hinge', 'squared_hinge', 'perceptron')}\n",
    "\n",
    "gs_clf = GridSearchCV(text_clf, param, n_jobs=-1)\n",
    "\n",
    "text_clf_gs = gs_clf.fit(X_train_text, le.transform(y_train_text))\n",
    "\n",
    "y_pred_gs = text_clf_gs.predict(X_test_text)\n",
    "\n",
    "#Compute F1-score, Precision ans Recall\n",
    "\n",
    "from sklearn.metrics import f1_score\n",
    "from sklearn.metrics import precision_score, recall_score\n",
    "\n",
    "y_true = le.transform(y_test_text)\n",
    "\n",
    "precision_gs = precision_score(y_true, y_pred_gs, average=None)\n",
    "\n",
    "recall_gs = recall_score(y_true, y_pred_gs, average=None)\n",
    "\n",
    "f1_s_gs = f1_score(y_true, y_pred_gs, average=None)\n",
    "\n",
    "#Analyze results\n",
    "\n",
    "print(\"Label\\tF1-score\\tPrecision\\tRecall\")\n",
    "for i in range(len(le.classes_)):\n",
    "    print(\"{}-Star\\t{:.4f}\\t{:.4f}\\t{:.4f}\".format(le.classes_[i],\n",
    "                                                   f1_s_gs[i],\n",
    "                                                   precision_gs[i,],\n",
    "                                                   recall_gs[i]))\n",
    "    \n",
    "# Best Parameters\n",
    "\n",
    "print(\"\\nBest parameters:\")\n",
    "print(text_clf_gs.best_params_)"
   ]
  },
  {
   "cell_type": "code",
   "execution_count": null,
   "metadata": {},
   "outputs": [],
   "source": [
    ""
   ]
  }
 ],
 "metadata": {
  "kernelspec": {
   "display_name": "Python 2",
   "language": "python",
   "name": "python2"
  },
  "language_info": {
   "codemirror_mode": {
    "name": "ipython",
    "version": 2.0
   },
   "file_extension": ".py",
   "mimetype": "text/x-python",
   "name": "python",
   "nbconvert_exporter": "python",
   "pygments_lexer": "ipython2",
   "version": "2.7.6"
  }
 },
 "nbformat": 4,
 "nbformat_minor": 0
}